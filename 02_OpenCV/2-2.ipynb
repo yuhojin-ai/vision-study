{
 "cells": [
  {
   "cell_type": "code",
   "execution_count": 3,
   "id": "6f8e4d4b",
   "metadata": {},
   "outputs": [],
   "source": [
    "import cv2 as cv\n",
    "import sys\n",
    "\n",
    "img=cv.imread('soccer.jpg')\t# 영상 읽기\n",
    "\n",
    "if img is None:\n",
    "    sys.exit('파일을 찾을 수 없습니다.')\n",
    "    \n",
    "cv.imshow('Image Display',img)\t# 윈도우에 영상 표시\n",
    "\n",
    "cv.waitKey()\n",
    "cv.destroyAllWindows()"
   ]
  },
  {
   "cell_type": "code",
   "execution_count": 6,
   "id": "906d08cc",
   "metadata": {},
   "outputs": [
    {
     "name": "stdout",
     "output_type": "stream",
     "text": [
      "<class 'numpy.ndarray'>\n",
      "(948, 1434, 3)\n",
      "uint8\n",
      "4078296\n"
     ]
    }
   ],
   "source": [
    "print(type(img))\t# 영상의 타입 출력\n",
    "# <class 'numpy.ndarray'>: OpenCV는 영상을 NumPy 배열로 처리합니다.\n",
    "\n",
    "# 영상의 크기, 채널 수, 데이터 타입 등을 확인할 수 있습니다.\n",
    "print(img.shape)  # (높이, 너비, 채널 수)\n",
    "print(img.dtype)  # uint8: 각 픽셀 값은 0-255 범위의 정수입니다.\n",
    "print(img.size)   # 전체 픽셀 수 (높이 * 너비 * 채널 수)"
   ]
  },
  {
   "cell_type": "code",
   "execution_count": 7,
   "id": "94b42b30",
   "metadata": {},
   "outputs": [
    {
     "name": "stdout",
     "output_type": "stream",
     "text": [
      "162 104 98\n",
      "163 105 99\n"
     ]
    }
   ],
   "source": [
    "print(img[0,0,0], img[0,0,1], img[0,0,2])  # (0, 0) 위치의 픽셀 값 (BGR 순서)\n",
    "print(img[0,1,0], img[0,1,1], img[0,1,2])  # (0, 0) 위치의 픽셀 값 (BGR 순서)"
   ]
  }
 ],
 "metadata": {
  "kernelspec": {
   "display_name": "py310",
   "language": "python",
   "name": "python3"
  },
  "language_info": {
   "codemirror_mode": {
    "name": "ipython",
    "version": 3
   },
   "file_extension": ".py",
   "mimetype": "text/x-python",
   "name": "python",
   "nbconvert_exporter": "python",
   "pygments_lexer": "ipython3",
   "version": "3.10.16"
  }
 },
 "nbformat": 4,
 "nbformat_minor": 5
}
