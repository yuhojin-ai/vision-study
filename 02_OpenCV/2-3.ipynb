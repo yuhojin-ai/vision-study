{
 "cells": [
  {
   "cell_type": "code",
   "execution_count": 2,
   "id": "7c822a3f",
   "metadata": {},
   "outputs": [],
   "source": [
    "import cv2 as cv\n",
    "import sys\n",
    "\n",
    "img = cv.imread('soccer.jpg')\n",
    "\n",
    "if img is None:\n",
    "    print('Image load failed!')\n",
    "    sys.exit()\n",
    "\n",
    "gray = cv.cvtColor(img, cv.COLOR_BGR2GRAY)  # BGR을 그레이로 변환\n",
    "gray_small = cv.resize(gray, (0, 0), fx=0.5, fy=0.5)  # 크기를 절반으로 축소\n",
    "gray_down = cv.pyrDown(gray)  # 피라미드 다운샘플링\n",
    "\n",
    "cv.imwrite('gray.jpg', gray)  # 그레이 영상을 파일로 저장\n",
    "cv.imwrite('gray_small.jpg', gray_small)  # 축소된 그레이 영상을 파일로 저장\n",
    "cv.imwrite('gray_down.jpg', gray_down)  # 피라미드 다운샘플링된 그레이 영상을 파일로 저장\n",
    "\n",
    "cv.imshow('original', img)  # 원본 이미지 표시\n",
    "cv.imshow('gray', gray)\n",
    "cv.imshow('gray_small', gray_small)\n",
    "cv.imshow('gray_down', gray_down)\n",
    "\n",
    "cv.waitKey(0)  # 키 입력 대기\n",
    "cv.destroyAllWindows()  # 모든 창 닫기"
   ]
  }
 ],
 "metadata": {
  "kernelspec": {
   "display_name": "py310",
   "language": "python",
   "name": "python3"
  },
  "language_info": {
   "codemirror_mode": {
    "name": "ipython",
    "version": 3
   },
   "file_extension": ".py",
   "mimetype": "text/x-python",
   "name": "python",
   "nbconvert_exporter": "python",
   "pygments_lexer": "ipython3",
   "version": "3.10.16"
  }
 },
 "nbformat": 4,
 "nbformat_minor": 5
}
