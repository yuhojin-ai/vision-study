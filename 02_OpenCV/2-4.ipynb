{
 "cells": [
  {
   "cell_type": "code",
   "execution_count": 2,
   "id": "7b73f6a9",
   "metadata": {},
   "outputs": [],
   "source": [
    "import cv2 as cv\n",
    "import sys\n",
    "\n",
    "cap = cv.VideoCapture(0, cv.CAP_DSHOW)  # 0번 카메라 장치 연결\n",
    "\n",
    "if not cap.isOpened():\n",
    "    sys.exit(\"카메라를 열 수 없습니다.\")\n",
    "    \n",
    "while True:\n",
    "    ret, frame = cap.read()\n",
    "    \n",
    "    if not ret:\n",
    "        sys.exit(\"프레임을 읽을 수 없습니다.\")\n",
    "        break\n",
    "    \n",
    "    cv.imshow(\"Video display\", frame)  # 프레임을 윈도우에 표시\n",
    "    \n",
    "    key = cv.waitKey(1) & 0xFF  # 키 입력 대기\n",
    "    if key == ord('q'):  # 'q' 키를 누르면 종료\n",
    "        break\n",
    "    \n",
    "cap.release()  # 카메라 장치 해제\n",
    "cv.destroyAllWindows()  # 모든 윈도우 닫기"
   ]
  }
 ],
 "metadata": {
  "kernelspec": {
   "display_name": "py310",
   "language": "python",
   "name": "python3"
  },
  "language_info": {
   "codemirror_mode": {
    "name": "ipython",
    "version": 3
   },
   "file_extension": ".py",
   "mimetype": "text/x-python",
   "name": "python",
   "nbconvert_exporter": "python",
   "pygments_lexer": "ipython3",
   "version": "3.10.16"
  }
 },
 "nbformat": 4,
 "nbformat_minor": 5
}
