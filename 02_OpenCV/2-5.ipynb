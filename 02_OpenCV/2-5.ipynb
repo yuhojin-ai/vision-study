{
 "cells": [
  {
   "cell_type": "code",
   "execution_count": 3,
   "id": "a47a3c9e",
   "metadata": {},
   "outputs": [
    {
     "name": "stdout",
     "output_type": "stream",
     "text": [
      "프레임 1 저장됨\n",
      "프레임 2 저장됨\n",
      "프레임 3 저장됨\n",
      "프레임 4 저장됨\n",
      "프레임 5 저장됨\n"
     ]
    }
   ],
   "source": [
    "import cv2 as cv\n",
    "import numpy as np\n",
    "import sys\n",
    "\n",
    "cap = cv.VideoCapture(0, cv.CAP_DSHOW)  # 카메라 캡처 객체 생성\n",
    "\n",
    "if not cap.isOpened():\n",
    "    print(\"카메라를 열 수 없습니다.\")\n",
    "    sys.exit()\n",
    "\n",
    "frames = []\n",
    "\n",
    "while True:\n",
    "    ret, frame = cap.read()  # 프레임 읽기\n",
    "    \n",
    "    if not ret:\n",
    "        print(\"프레임을 읽을 수 없습니다.\")\n",
    "        break\n",
    "    \n",
    "    cv.imshow('Video display', frame)  # 프레임 표시\n",
    "    \n",
    "    key = cv.waitKey(1) & 0xFF  # 키 입력 대기\n",
    "    if key == ord('c'):  # 'c' 키를 누르면 프레임 저장\n",
    "        frames.append(frame)\n",
    "        print(f\"프레임 {len(frames)} 저장됨\")\n",
    "    \n",
    "    if key == ord('q'):  # 'q' 키를 누르면 종료\n",
    "        break\n",
    "    \n",
    "cap.release()  # 카메라 캡처 객체 해제\n",
    "cv.destroyAllWindows()  # 모든 OpenCV 창 닫기\n",
    "\n",
    "if len(frames) > 0:\n",
    "    imgs = frames[0]  # 첫 번째 프레임을 imgs 변수에 저장\n",
    "    for i in range(1, min(5, len(frames))):\n",
    "        imgs = np.vstack((imgs, frames[i]))  # 프레임을 수평으로 연결\n",
    "    \n",
    "    cv.imwrite('Team3.jpg', imgs)\n",
    "    cv.imshow('collected images', imgs)  # 저장된 프레임 표시\n",
    "    \n",
    "    cv.waitKey(0)  # 키 입력 대기\n",
    "    cv.destroyAllWindows()  # 모든 OpenCV 창 닫기"
   ]
  },
  {
   "cell_type": "code",
   "execution_count": null,
   "id": "0cfd884c",
   "metadata": {},
   "outputs": [
    {
     "name": "stdout",
     "output_type": "stream",
     "text": [
      "5\n",
      "<class 'list'>\n",
      "(480, 640, 3)\n",
      "<class 'numpy.ndarray'>\n",
      "(2400, 640, 3)\n"
     ]
    }
   ],
   "source": [
    "print(len(frames))  # 저장된 프레임의 개수 출력\n",
    "print(frames[0].shape)  # 첫 번째 프레임의 크기 출력\n",
    "print(type(imgs))  # imgs 변수의 타입 출력\n",
    "print(imgs.shape)  # imgs 변수의 크기 출력"
   ]
  }
 ],
 "metadata": {
  "kernelspec": {
   "display_name": "py310",
   "language": "python",
   "name": "python3"
  },
  "language_info": {
   "codemirror_mode": {
    "name": "ipython",
    "version": 3
   },
   "file_extension": ".py",
   "mimetype": "text/x-python",
   "name": "python",
   "nbconvert_exporter": "python",
   "pygments_lexer": "ipython3",
   "version": "3.10.16"
  }
 },
 "nbformat": 4,
 "nbformat_minor": 5
}
