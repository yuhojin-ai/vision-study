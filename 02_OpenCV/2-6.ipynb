{
 "cells": [
  {
   "cell_type": "code",
   "execution_count": null,
   "id": "a2fad1a4",
   "metadata": {},
   "outputs": [],
   "source": [
    "import cv2 as cv\n",
    "import sys\n",
    "\n",
    "img = cv.imread('girl_laughing.jpg')\n",
    "\n",
    "if img is None:\n",
    "    print('Image load failed!')\n",
    "    sys.exit()\n",
    "\n",
    "cv.rectangle(img, (830, 30), (1000, 200), (0, 0, 255), 2)  # 초록색 사각형 그리기\n",
    "cv.putText(img, 'laugh', (100, 90), cv.FONT_HERSHEY_SIMPLEX, 1, (255, 0, 0), 2)  # (이미지, 텍스트, 위치, 폰트, 크기, 색상, 두께)\n",
    "\n",
    "cv.imshow('Draw', img)  # 이미지 창에 표시\n",
    "\n",
    "cv.waitKey(0)  # 키 입력 대기\n",
    "cv.destroyAllWindows()  # 모든 창 닫기"
   ]
  }
 ],
 "metadata": {
  "kernelspec": {
   "display_name": "py310",
   "language": "python",
   "name": "python3"
  },
  "language_info": {
   "codemirror_mode": {
    "name": "ipython",
    "version": 3
   },
   "file_extension": ".py",
   "mimetype": "text/x-python",
   "name": "python",
   "nbconvert_exporter": "python",
   "pygments_lexer": "ipython3",
   "version": "3.10.16"
  }
 },
 "nbformat": 4,
 "nbformat_minor": 5
}
