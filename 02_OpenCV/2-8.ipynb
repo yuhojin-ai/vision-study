{
 "cells": [
  {
   "cell_type": "code",
   "execution_count": null,
   "id": "3a1d5739",
   "metadata": {},
   "outputs": [],
   "source": [
    "import cv2 as cv\n",
    "import sys\n",
    "\n",
    "img = cv.imread('girl_laughing.jpg')\n",
    "\n",
    "if img is None:\n",
    "    print('Image load failed!')\n",
    "    sys.exit()\n",
    "\n",
    "def draw(event, x, y, flags, param):\n",
    "    global ix, iy\n",
    "    \n",
    "    if event == cv.EVENT_LBUTTONDOWN:\n",
    "        ix, iy = x, y\n",
    "    elif event == cv.EVENT_LBUTTONUP:\n",
    "        cv.rectangle(img, (ix, iy), (x, y), (0, 255, 0), 2)\n",
    "    \n",
    "    cv.imshow('Drawing', img)\n",
    "\n",
    "cv.namedWindow('Drawing')\n",
    "cv.imshow('Drawing', img)\n",
    "cv.setMouseCallback('Drawing', draw)\n",
    "\n",
    "while True:\n",
    "    if cv.waitKey(1) == ord('q'):\n",
    "        cv.destroyAllWindows()\n",
    "        break"
   ]
  }
 ],
 "metadata": {
  "kernelspec": {
   "display_name": "py310",
   "language": "python",
   "name": "python3"
  },
  "language_info": {
   "codemirror_mode": {
    "name": "ipython",
    "version": 3
   },
   "file_extension": ".py",
   "mimetype": "text/x-python",
   "name": "python",
   "nbconvert_exporter": "python",
   "pygments_lexer": "ipython3",
   "version": "3.10.16"
  }
 },
 "nbformat": 4,
 "nbformat_minor": 5
}
