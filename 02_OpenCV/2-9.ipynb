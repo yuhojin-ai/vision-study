{
 "cells": [
  {
   "cell_type": "code",
   "execution_count": null,
   "id": "b2eab5bc",
   "metadata": {},
   "outputs": [],
   "source": [
    "import cv2 as cv\n",
    "import sys\n",
    "\n",
    "img = cv.imread('soccer.jpg')\n",
    "\n",
    "if img is None:\n",
    "    print('Image load failed!')\n",
    "    sys.exit()\n",
    "\n",
    "BrushSize = 5\n",
    "LColor, RColor = (255, 0, 0), (0, 0, 255)\n",
    "\n",
    "def paint(event, x, y, flags, param):\n",
    "    if event == cv.EVENT_LBUTTONDOWN:\n",
    "        cv.circle(img, (x, y), BrushSize, LColor, -1)\n",
    "    elif event == cv.EVENT_RBUTTONDOWN:\n",
    "        cv.circle(img, (x, y), BrushSize, RColor, -1)\n",
    "    elif event == cv.EVENT_MOUSEMOVE and flags == cv.EVENT_FLAG_LBUTTON:\n",
    "        cv.circle(img, (x, y), BrushSize, LColor, -1)\n",
    "    elif event == cv.EVENT_MOUSEMOVE and flags == cv.EVENT_FLAG_RBUTTON:\n",
    "        cv.circle(img, (x, y), BrushSize, RColor, -1)\n",
    "    \n",
    "    cv.imshow('Painting', img)\n",
    "    \n",
    "cv.namedWindow('Painting')\n",
    "cv.imshow('Painting', img)\n",
    "cv.setMouseCallback('Painting', paint)\n",
    "\n",
    "while True:\n",
    "    if cv.waitKey(1) == ord('q'):\n",
    "        cv.destroyAllWindows()\n",
    "        break"
   ]
  }
 ],
 "metadata": {
  "kernelspec": {
   "display_name": "py310",
   "language": "python",
   "name": "python3"
  },
  "language_info": {
   "codemirror_mode": {
    "name": "ipython",
    "version": 3
   },
   "file_extension": ".py",
   "mimetype": "text/x-python",
   "name": "python",
   "nbconvert_exporter": "python",
   "pygments_lexer": "ipython3",
   "version": "3.10.16"
  }
 },
 "nbformat": 4,
 "nbformat_minor": 5
}
