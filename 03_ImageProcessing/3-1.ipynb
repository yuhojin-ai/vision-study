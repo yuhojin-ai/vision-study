{
 "cells": [
  {
   "cell_type": "code",
   "execution_count": 3,
   "id": "6276a6ae",
   "metadata": {},
   "outputs": [],
   "source": [
    "import cv2 as cv\n",
    "import sys\n",
    "\n",
    "img = cv.imread('soccer.jpg')\n",
    "\n",
    "if img is None:\n",
    "    print('Image load failed')\n",
    "    sys.exit()\n",
    "\n",
    "cv.imshow('original', img)\n",
    "cv.imshow('Upper Left half', img[:img.shape[0]//2, :img.shape[1]//2])\n",
    "cv.imshow('Center half', img[img.shape[0]//4:img.shape[0]//4*3, img.shape[1]//4:img.shape[1]//4*3])\n",
    "\n",
    "cv.imshow('R channel', img[:, :, 2])\n",
    "cv.imshow('G channel', img[:, :, 1])\n",
    "cv.imshow('B channel', img[:, :, 0])\n",
    "\n",
    "cv.waitKey(0)\n",
    "cv.destroyAllWindows()"
   ]
  }
 ],
 "metadata": {
  "kernelspec": {
   "display_name": "py310",
   "language": "python",
   "name": "python3"
  },
  "language_info": {
   "codemirror_mode": {
    "name": "ipython",
    "version": 3
   },
   "file_extension": ".py",
   "mimetype": "text/x-python",
   "name": "python",
   "nbconvert_exporter": "python",
   "pygments_lexer": "ipython3",
   "version": "3.10.16"
  }
 },
 "nbformat": 4,
 "nbformat_minor": 5
}
