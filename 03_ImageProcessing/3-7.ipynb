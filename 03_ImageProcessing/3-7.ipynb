{
 "cells": [
  {
   "cell_type": "markdown",
   "id": "cf8d6dc9",
   "metadata": {},
   "source": [
    "### 컨볼루션 핵심 원리\n",
    "| 단계  | 설명                   |\n",
    "| --- | -------------------- |\n",
    "| 1️ | 커널(필터)을 이미지 위에 덮는다   |\n",
    "| 2️ | 덮인 영역의 픽셀과 커널 값을 곱한다 |\n",
    "| 3️ | 다 더해서 새로운 픽셀 값을 만든다  |\n",
    "| 4️ | 한 칸 이동해서 반복한다        |"
   ]
  },
  {
   "cell_type": "markdown",
   "id": "29f9fdf9",
   "metadata": {},
   "source": [
    "### 커널 효과\n",
    "| 효과      | 특징            | 대표 커널          |\n",
    "| ------- | ------------- | -------------- |\n",
    "| **스무딩** | 경계와 노이즈를 부드럽게 | 평균 필터, 가우시안 필터 |\n",
    "| **엠보싱** | 경계 강조 + 양각 효과 | 방향성 있는 대칭X 필터  |\n",
    "\n",
    " ----\n",
    "| 커널      | 효과               |\n",
    "| ------- | ---------------- |\n",
    "| 평균 필터   | 블러 (주변 평균)       |\n",
    "| 샤프닝     | 경계 강조            |\n",
    "| 가우시안 필터 | 노이즈 완화           |\n",
    "| 소벨 필터   | 엣지 검출 (가로/세로 경계) |"
   ]
  },
  {
   "cell_type": "code",
   "execution_count": 4,
   "id": "a52a1b9a",
   "metadata": {},
   "outputs": [],
   "source": [
    "import cv2 as cv\n",
    "import numpy as np\n",
    "\n",
    "# 1) 이미지 읽고 크기 줄이기\n",
    "img = cv.imread('soccer.jpg')                             # 이미지 불러오기\n",
    "img = cv.resize(img, dsize=(0,0), fx=0.4, fy=0.4)         # 가로세로 40%로 축소\n",
    "\n",
    "# 2) 그레이스케일 변환 + 텍스트 추가\n",
    "gray = cv.cvtColor(img, cv.COLOR_BGR2GRAY)                # 컬러 → 흑백으로 변환\n",
    "cv.putText(gray, 'soccer', (10, 20),                      # 좌상단에 텍스트 출력\n",
    "           cv.FONT_HERSHEY_SIMPLEX, 0.7, (255, 255, 255), 2)\n",
    "cv.imshow('gray', gray)                                   # 변환된 흑백 이미지 띄우기\n",
    "\n",
    "# 3) 가우시안 블러(스무딩) 강도 비교\n",
    "# 커널 크기가 커질수록 더 많이 흐려짐\n",
    "smooth = np.hstack((\n",
    "    cv.GaussianBlur(gray, (5, 5), 0.0),                  # 5x5 블러\n",
    "    cv.GaussianBlur(gray, (9, 9), 0.0),                  # 9x9 블러\n",
    "    cv.GaussianBlur(gray, (15, 15), 0.0)                 # 15x15 블러 (가장 흐림)\n",
    "))\n",
    "cv.imshow('smooth', smooth)                              # 세 결과를 가로로 붙여 비교\n",
    "\n",
    "# 4) 엠보싱 필터 커널 정의 (대각선 방향 경계 강조)\n",
    "femboss = np.array([\n",
    "    [-1.0, 0.0, 0.0],\n",
    "    [ 0.0, 0.0, 0.0],\n",
    "    [ 0.0, 0.0, 1.0]\n",
    "])\n",
    "\n",
    "# 5) 엠보싱 효과 적용 (정상 버전)\n",
    "# 음수값 생기므로 int16으로 변환해야 정확함!\n",
    "gray16 = np.int16(gray)                                  # uint8 → int16로 변환 (음수 처리 위해)\n",
    "# 컨볼루션 + 128로 중앙값 맞춤 → clip으로 0~255 범위 제한 → 다시 uint8로\n",
    "emboss = np.uint8(\n",
    "    np.clip(cv.filter2D(gray16, -1, femboss) + 128, 0, 255)\n",
    ")\n",
    "cv.imshow('emboss', emboss)                              # 올바른 엠보싱 출력\n",
    "\n",
    "# 6) 잘못된 예시 1: +128 없이 바로 clip (중심이 회색이 아니라 왜곡됨)\n",
    "emboss_bad = np.uint8(\n",
    "    np.clip(cv.filter2D(gray16, -1, femboss), 0, 255)\n",
    ")\n",
    "cv.imshow('emboss_bad', emboss_bad)                      # 중간값 보정 안 해서 양각 느낌이 안남\n",
    "\n",
    "# 7) 잘못된 예시 2: int16 변환 없이 uint8 그대로 → 오버플로우 발생\n",
    "emboss_worse = cv.filter2D(gray, -1, femboss)            # uint8 그대로 → 음수 안 됨 → 경계 이상함\n",
    "cv.imshow('emboss_worse', emboss_worse)                  # 오버플로우로 깨짐\n",
    "\n",
    "# 8) 모든 창 닫기\n",
    "cv.waitKey(0)\n",
    "cv.destroyAllWindows()\n"
   ]
  }
 ],
 "metadata": {
  "kernelspec": {
   "display_name": "py310",
   "language": "python",
   "name": "python3"
  },
  "language_info": {
   "codemirror_mode": {
    "name": "ipython",
    "version": 3
   },
   "file_extension": ".py",
   "mimetype": "text/x-python",
   "name": "python",
   "nbconvert_exporter": "python",
   "pygments_lexer": "ipython3",
   "version": "3.10.16"
  }
 },
 "nbformat": 4,
 "nbformat_minor": 5
}
