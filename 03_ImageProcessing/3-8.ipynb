{
 "cells": [
  {
   "cell_type": "markdown",
   "id": "bc171725",
   "metadata": {},
   "source": [
    "### 동차 행렬\n",
    "| 장점                      | 이유                  |\n",
    "| ----------------------- | ------------------- |\n",
    "| 이동 + 회전 + 스케일을 행렬 곱 하나로 | `1` 덕분에 덧셈을 곱셈으로 표현 |\n",
    "| 여러 변환을 연속 적용할 때 편리      | 행렬 곱으로 연쇄적용         |\n",
    "| 벡터와 행렬만으로 기하학적 변환 구현    | GPU/행렬 연산에 최적       |\n",
    "\n",
    "### 기하 변환\n",
    "| 변환                | 특징                   | 대표 행렬                    |                                      |\n",
    "| ----------------- | -------------------- | ------------------------ | ---------------------------------- |\n",
    "|  이동(Translation) | 위치만 이동               | x' = x + tx, y' = y + ty |                                      |\n",
    "|  크기 조절(Scaling)  | 확대/축소                | x' = sx·x, y' = sy·y     |                                      |\n",
    "|  회전(Rotation)    | 각도만 바꿈               |                          | R  = \\[\\[cosθ, -sinθ],\\[sinθ, cosθ]] |\n",
    "|  대칭(Reflection)  | 축 기준 반사              | x축/ y축 기준                |                                      |\n",
    "|  아핀 변환(Affine)   | 선형 변환(회전+이동+스케일+기울임) | 2×3 행렬                   |                                      |\n",
    "|  투시 변환(호모그래피)    | 원근 왜곡 보정             | 3×3 행렬 (Homography)      |                                      |\n",
    "\n",
    "### 보간\n",
    "| 방법                                 | 특징        | 계산 방법                    |\n",
    "| ---------------------------------- | --------- | ------------------------ |\n",
    "| 🔹 최근접 이웃 (Nearest Neighbor)       | 가장 단순!    | 가장 가까운 픽셀 값으로 대체         |\n",
    "| 🔹 양선형 보간 (Bilinear Interpolation) | 가장 많이 사용됨 | 주변 4개 픽셀 가중평균            |\n",
    "| 🔹 양입방 보간 (Bicubic Interpolation)  | 더 부드럽고 고급 | 주변 16개 픽셀 가중평균 (3차 스플라인) |"
   ]
  },
  {
   "cell_type": "code",
   "execution_count": 2,
   "id": "5d22f899",
   "metadata": {},
   "outputs": [],
   "source": [
    "import cv2 as cv\n",
    "\n",
    "img = cv.imread('rose.png')\n",
    "patch = img[250:350, 170:270, :]\n",
    "\n",
    "img = cv.rectangle(img, (170,250), (270,350), (0,255,0), 3)\n",
    "patch1 = cv.resize(patch, dsize=(0,0), fx=5, fy=5, interpolation=cv.INTER_NEAREST)\n",
    "patch2 = cv.resize(patch, dsize=(0,0), fx=5, fy=5, interpolation=cv.INTER_LINEAR)\n",
    "patch3 = cv.resize(patch, dsize=(0,0), fx=5, fy=5, interpolation=cv.INTER_CUBIC)\n",
    "\n",
    "cv.imshow('Original Image', img)\n",
    "cv.imshow('Nearest Neighbor', patch1)\n",
    "cv.imshow('Bilinear', patch2)\n",
    "cv.imshow('Bicubic', patch3)\n",
    "\n",
    "cv.waitKey(0)\n",
    "cv.destroyAllWindows()"
   ]
  },
  {
   "cell_type": "code",
   "execution_count": null,
   "id": "80665ceb",
   "metadata": {},
   "outputs": [],
   "source": [
    "import cv2 as cv\n",
    "\n",
    "def draw(event, x, y, flags, param):\n",
    "    global ix, iy\n",
    "    \n",
    "    if event == cv.EVENT_LBUTTONDOWN:\n",
    "        ix, iy = x, y\n",
    "    elif event == cv.EVENT_LBUTTONUP:\n",
    "        # 안전하게 좌표 정렬!\n",
    "        x1, x2 = min(ix, x), max(ix, x)\n",
    "        y1, y2 = min(iy, y), max(iy, y)\n",
    "\n",
    "        # 선택 영역 추출\n",
    "        patch = img[y1:y2, x1:x2, :]\n",
    "        \n",
    "        # 너무 작은 영역 방지\n",
    "        if patch.size == 0:\n",
    "            print(\"선택 영역이 너무 작습니다.\")\n",
    "            return\n",
    "\n",
    "        patch1 = cv.resize(patch, dsize=(0, 0), fx=5, fy=5, interpolation=cv.INTER_NEAREST)\n",
    "        patch2 = cv.resize(patch, dsize=(0, 0), fx=5, fy=5, interpolation=cv.INTER_LINEAR)\n",
    "        patch3 = cv.resize(patch, dsize=(0, 0), fx=5, fy=5, interpolation=cv.INTER_CUBIC)\n",
    "\n",
    "        # 결과 출력\n",
    "        cv.imshow('Nearest Neighbor', patch1)\n",
    "        cv.imshow('Bilinear', patch2)\n",
    "        cv.imshow('Bicubic', patch3)\n",
    "        \n",
    "img = cv.imread('rose.png')\n",
    "\n",
    "cv.namedWindow('Original Image')\n",
    "cv.imshow('Original Image', img)\n",
    "cv.setMouseCallback('Original Image', draw)\n",
    "\n",
    "cv.waitKey(0)\n",
    "cv.destroyAllWindows()"
   ]
  }
 ],
 "metadata": {
  "kernelspec": {
   "display_name": "py310",
   "language": "python",
   "name": "python3"
  },
  "language_info": {
   "codemirror_mode": {
    "name": "ipython",
    "version": 3
   },
   "file_extension": ".py",
   "mimetype": "text/x-python",
   "name": "python",
   "nbconvert_exporter": "python",
   "pygments_lexer": "ipython3",
   "version": "3.10.16"
  }
 },
 "nbformat": 4,
 "nbformat_minor": 5
}
