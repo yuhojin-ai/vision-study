{
 "cells": [
  {
   "cell_type": "code",
   "execution_count": 1,
   "id": "50cb07d9",
   "metadata": {},
   "outputs": [
    {
     "name": "stdout",
     "output_type": "stream",
     "text": [
      "my_cvtGray1 time: 3.5422747135162354\n",
      "my_cvtGray2 time: 0.013301610946655273\n",
      "cv.cvtColor time: 0.003393411636352539\n"
     ]
    }
   ],
   "source": [
    "import cv2 as cv\n",
    "import numpy as np\n",
    "import time\n",
    "\n",
    "def my_cvtGray1(bgr_img):\n",
    "    g = np.zeros([bgr_img.shape[0], bgr_img.shape[1]])\n",
    "    for r in range(bgr_img.shape[0]):\n",
    "        for c in range(bgr_img.shape[1]):\n",
    "            g[r, c] = 0.114*bgr_img[r, c, 0] + \\\n",
    "                      0.587*bgr_img[r, c, 1] + \\\n",
    "                      0.299*bgr_img[r, c, 2]\n",
    "    return np.uint8(g)\n",
    "\n",
    "def my_cvtGray2(bgr_img):\n",
    "    g = np.zeros([bgr_img.shape[0], bgr_img.shape[1]])\n",
    "    g = 0.114*bgr_img[:, :, 0] + \\\n",
    "        0.587*bgr_img[:, :, 1] + \\\n",
    "        0.299*bgr_img[:, :, 2]\n",
    "    return np.uint8(g)\n",
    "\n",
    "img = cv.imread('girl_laughing.jpg')\n",
    "\n",
    "start = time.time()\n",
    "my_cvtGray1(img)\n",
    "print('my_cvtGray1 time:', time.time() - start)\n",
    "\n",
    "start = time.time()\n",
    "my_cvtGray2(img)\n",
    "print('my_cvtGray2 time:', time.time() - start)\n",
    "\n",
    "start = time.time()\n",
    "gray = cv.cvtColor(img, cv.COLOR_BGR2GRAY)\n",
    "print('cv.cvtColor time:', time.time() - start)"
   ]
  },
  {
   "cell_type": "markdown",
   "id": "6d358bd3",
   "metadata": {},
   "source": [
    "| 방식            | 처리 원리                   | 속도                           |\n",
    "| ------------- | ----------------------- | ---------------------------- |\n",
    "| `my_cvtGray1` | 파이썬 for문 반복             | 매우 느림 (수만 \\~ 수백만 번 해석 실행) |\n",
    "| `my_cvtGray2` | 넘파이 벡터 연산               | 빠름 (내부 C루틴)               |\n",
    "| `cv.cvtColor` | 네이티브 코드(C++) + SIMD 최적화 | 매우 빠름 (실제 OpenCV 핵심기술)   |"
   ]
  }
 ],
 "metadata": {
  "kernelspec": {
   "display_name": "py310",
   "language": "python",
   "name": "python3"
  },
  "language_info": {
   "codemirror_mode": {
    "name": "ipython",
    "version": 3
   },
   "file_extension": ".py",
   "mimetype": "text/x-python",
   "name": "python",
   "nbconvert_exporter": "python",
   "pygments_lexer": "ipython3",
   "version": "3.10.16"
  }
 },
 "nbformat": 4,
 "nbformat_minor": 5
}
