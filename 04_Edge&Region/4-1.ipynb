{
 "cells": [
  {
   "cell_type": "markdown",
   "id": "4c1976f9",
   "metadata": {},
   "source": [
    "| 용어           | 뜻                | 역할               |\n",
    "| ------------ | ---------------- | ---------------- |\n",
    "| **엣지 강도**    | 밝기 변화율의 크기       | 경계선 후보 픽셀 찾기     |\n",
    "| **그래디언트 방향** | 밝기 변화가 큰 방향 (수직) | 경계선의 방향성을 알 수 있음 |"
   ]
  },
  {
   "cell_type": "code",
   "execution_count": 3,
   "id": "fd75ece3",
   "metadata": {},
   "outputs": [],
   "source": [
    "import cv2 as cv\n",
    "\n",
    "img = cv.imread('soccer.jpg')\n",
    "gray = cv.cvtColor(img, cv.COLOR_BGR2GRAY)\n",
    "\n",
    "grad_x = cv.Sobel(gray, cv.CV_32F, 1, 0, ksize=3)  # x 방향 미분\n",
    "grad_y = cv.Sobel(gray, cv.CV_32F, 0, 1, ksize=3)  # y 방향 미분\n",
    "\n",
    "sobel_x = cv.convertScaleAbs(grad_x)  # 절대값 변환 후 uint8로 변환\n",
    "sobel_y = cv.convertScaleAbs(grad_y)  # 절대값 변환 후 uint8로 변환\n",
    "\n",
    "edge_strength = cv.addWeighted(sobel_x, 0.5, sobel_y, 0.5, 0)  # 두 방향 합치기\n",
    "\n",
    "cv.imshow('original', img)\n",
    "cv.imshow('sobel_x', sobel_x)\n",
    "cv.imshow('sobel_y', sobel_y)\n",
    "cv.imshow('edge_strength', edge_strength)\n",
    "\n",
    "cv.waitKey(0)\n",
    "cv.destroyAllWindows()"
   ]
  }
 ],
 "metadata": {
  "kernelspec": {
   "display_name": "py310",
   "language": "python",
   "name": "python3"
  },
  "language_info": {
   "codemirror_mode": {
    "name": "ipython",
    "version": 3
   },
   "file_extension": ".py",
   "mimetype": "text/x-python",
   "name": "python",
   "nbconvert_exporter": "python",
   "pygments_lexer": "ipython3",
   "version": "3.10.16"
  }
 },
 "nbformat": 4,
 "nbformat_minor": 5
}
