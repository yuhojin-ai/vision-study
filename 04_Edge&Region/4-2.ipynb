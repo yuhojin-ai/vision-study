{
 "cells": [
  {
   "cell_type": "markdown",
   "id": "686421aa",
   "metadata": {},
   "source": [
    "### Step 1) 가우시안 블러\n",
    "입력 영상에 가우시안 필터로 노이즈 제거.\n",
    "노이즈가 있으면 미분할 때 거짓 엣지가 많이 생김.\n",
    "\n",
    "### Step 2) 그래디언트(미분) 계산\n",
    "소벨 연산자 등으로 X, Y 방향 그래디언트 강도와 방향 계산.\n",
    "\n",
    "### Step 3) 비최대 억제 (Non-Maximum Suppression)\n",
    "그래디언트 방향을 따라 경계선의 폭을 얇게 만드는 단계.\n",
    "경계선이 두꺼우면 가짜 엣지가 많아져서 얇게 만들어야 함.\n",
    "방법: 방향을 따라 최대값이 아닌 픽셀은 0으로 만든다.\n",
    "\n",
    "### Step 4) 히스테리시스 임계값 처리 (이중 임계값)\n",
    "약한 엣지와 강한 엣지를 나눠서 연속된 경계선만 유지.\n",
    "low threshold, high threshold 두 개의 경계값 사용: \n",
    "강한 엣지(> high)는 무조건 엣지 \n",
    "약한 엣지(> low)는 강한 엣지와 연결되면 엣지로 간주.\n",
    "나머지는 제거!\n",
    "\n",
    "### Step 5) 엣지 추적(연결)\n",
    "히스테리시스로 결정된 픽셀들만 연결해서 최종 엣지맵 완성!\n",
    "\n",
    "| 장점        | 설명                                |\n",
    "| --------- | --------------------------------- |\n",
    "| 노이즈 억제 | 가우시안 필터 포함                        |\n",
    "| 경계선 얇음 | 비최대 억제로 1픽셀 두께                    |\n",
    "| 연속성 유지 | 히스테리시스로 끊어진 엣지 연결                 |\n",
    "| 실전 사용  | 얼굴, 물체 인식, OCR 등 거의 모든 기본 단계에서 활용 |"
   ]
  },
  {
   "cell_type": "code",
   "execution_count": 2,
   "id": "73347631",
   "metadata": {},
   "outputs": [],
   "source": [
    "import cv2 as cv\n",
    "\n",
    "img = cv.imread('soccer.jpg')\n",
    "\n",
    "gray = cv.cvtColor(img, cv.COLOR_BGR2GRAY)\n",
    "\n",
    "# Canny 엣지 검출\n",
    "# 두 개의 임계값을 사용하여 엣지를 검출\n",
    "# 첫 번째 임계값은 낮은 경계, 두 번째 임계값은 높은 경계\n",
    "# 낮은 경계보다 작은 값은 무시하고, 높은 경계보다 큰 값은 엣지로 간주\n",
    "# 낮은 경계와 높은 경계 사이의 값은 연결된 엣지로 간주됨\n",
    "canny1 = cv.Canny(gray, 50, 150) \n",
    "canny2 = cv.Canny(gray, 100, 200) \n",
    "\n",
    "cv.imshow('Original', gray)\n",
    "cv.imshow('Canny 50-150', canny1)\n",
    "cv.imshow('Canny 100-200', canny2)\n",
    "\n",
    "cv.waitKey(0)\n",
    "cv.destroyAllWindows()"
   ]
  }
 ],
 "metadata": {
  "kernelspec": {
   "display_name": "py310",
   "language": "python",
   "name": "python3"
  },
  "language_info": {
   "codemirror_mode": {
    "name": "ipython",
    "version": 3
   },
   "file_extension": ".py",
   "mimetype": "text/x-python",
   "name": "python",
   "nbconvert_exporter": "python",
   "pygments_lexer": "ipython3",
   "version": "3.10.16"
  }
 },
 "nbformat": 4,
 "nbformat_minor": 5
}
