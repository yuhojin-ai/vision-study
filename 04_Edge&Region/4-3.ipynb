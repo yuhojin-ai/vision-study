{
 "cells": [
  {
   "cell_type": "markdown",
   "id": "b79db039",
   "metadata": {},
   "source": [
    "### 에지 맵에서 경계선 찾기\n",
    "| 단계                      | 설명                   |\n",
    "| ----------------------- | -------------------- |\n",
    "| 1️ `cv.Canny()`        | 얇고 연속적인 경계선 검출       |\n",
    "| 2️ `cv.findContours()` | 연결된 경계선 → 좌표 리스트로 묶기 |\n",
    "| 3️ 길이 필터링              | 노이즈처럼 짧은 윤곽선 제거      |\n",
    "| 4 `cv.drawContours()` | 유효한 윤곽선만 색상으로 시각화    |"
   ]
  },
  {
   "cell_type": "code",
   "execution_count": null,
   "id": "0c6882bc",
   "metadata": {},
   "outputs": [],
   "source": [
    "import cv2 as cv\n",
    "import numpy as np\n",
    "\n",
    "img = cv.imread('soccer.jpg')\n",
    "gray = cv.cvtColor(img, cv.COLOR_BGR2GRAY)\n",
    "canny = cv.Canny(gray, 100, 200)\n",
    "\n",
    "contour, hierarchy = cv.findContours(canny, cv.RETR_LIST, cv.CHAIN_APPROX_NONE)\n",
    "# contour, hierarchy = cv.findContours(canny, cv.RETR_LIST, cv.CHAIN_APPROX_TC89_L1)\n",
    "# contour, hierarchy = cv.findContours(canny, cv.RETR_LIST, cv.CHAIN_APPROX_TC89_KCOS)\n",
    "\n",
    "lcontour = []\n",
    "for i in range(len(contour)):\n",
    "    if contour[i].shape[0] > 100:\n",
    "        lcontour.append(contour[i])\n",
    "        \n",
    "cv.drawContours(img, lcontour, -1, (0,255,0), 3)\n",
    "\n",
    "cv.imshow('Original with contours', img)\n",
    "cv.imshow('Canny', canny)\n",
    "\n",
    "cv.waitKey()\n",
    "cv.destroyAllWindows()"
   ]
  }
 ],
 "metadata": {
  "kernelspec": {
   "display_name": "py310",
   "language": "python",
   "name": "python3"
  },
  "language_info": {
   "codemirror_mode": {
    "name": "ipython",
    "version": 3
   },
   "file_extension": ".py",
   "mimetype": "text/x-python",
   "name": "python",
   "nbconvert_exporter": "python",
   "pygments_lexer": "ipython3",
   "version": "3.10.16"
  }
 },
 "nbformat": 4,
 "nbformat_minor": 5
}
