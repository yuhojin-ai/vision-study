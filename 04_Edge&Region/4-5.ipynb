{
 "cells": [
  {
   "cell_type": "markdown",
   "id": "30b8981f",
   "metadata": {},
   "source": [
    "### SLIC 알고리즘으로 슈퍼 화소 분할하기"
   ]
  },
  {
   "cell_type": "code",
   "execution_count": 3,
   "id": "0efe06f5",
   "metadata": {},
   "outputs": [],
   "source": [
    "import skimage\n",
    "import numpy as np\n",
    "import cv2 as cv\n",
    "\n",
    "# [1] 샘플 이미지 불러오기 (skimage에서 제공)\n",
    "img = skimage.data.coffee()\n",
    "\n",
    "# OpenCV는 BGR 순서라서 RGB → BGR로 변환해서 표시\n",
    "cv.imshow('Coffee image', cv.cvtColor(img, cv.COLOR_RGB2BGR))\n",
    "\n",
    "# [2] SLIC Superpixel Segmentation (compactness=20)\n",
    "# compactness: 색상과 공간 정보의 균형 조절 파라미터 (작으면 색상 위주, 크면 형태 유지)\n",
    "# n_segments: 만들 Superpixel 수\n",
    "slic1 = skimage.segmentation.slic(img, compactness=20, n_segments=600)\n",
    "\n",
    "# SLIC 결과에 경계선 그리기\n",
    "sp_img1 = skimage.segmentation.mark_boundaries(img, slic1)\n",
    "\n",
    "# skimage는 결과가 [0,1] float이므로 OpenCV로 보려면 0~255로 변환\n",
    "sp_img1 = np.uint8(sp_img1 * 255.0)\n",
    "\n",
    "# [3] 두 번째 SLIC 세그먼트 (compactness=40)\n",
    "# compactness가 더 크면 덩어리 형태가 더 균일해짐\n",
    "slic2 = skimage.segmentation.slic(img, compactness=40, n_segments=600)\n",
    "\n",
    "# 두 번째 결과도 경계선 표시\n",
    "sp_img2 = skimage.segmentation.mark_boundaries(img, slic2)\n",
    "sp_img2 = np.uint8(sp_img2 * 255.0)\n",
    "\n",
    "# [4] OpenCV로 결과 시각화\n",
    "# RGB → BGR 변환하여 색상 깨짐 방지\n",
    "cv.imshow('Super pixels (compact 20)', cv.cvtColor(sp_img1, cv.COLOR_RGB2BGR))\n",
    "cv.imshow('Super pixels (compact 50)', cv.cvtColor(sp_img2, cv.COLOR_RGB2BGR))\n",
    "\n",
    "# [5] 키 입력 대기 후 창 닫기\n",
    "cv.waitKey()\n",
    "cv.destroyAllWindows()"
   ]
  },
  {
   "cell_type": "markdown",
   "id": "31994916",
   "metadata": {},
   "source": [
    "| 키워드                  | 설명                                                     |\n",
    "| -------------------- | ------------------------------------------------------ |\n",
    "| **SLIC**             | 이미지의 색상 + 공간 정보로 비슷한 픽셀을 묶어서 슈퍼픽셀로 분할.                 |\n",
    "| **compactness**      | 색상과 공간 정보의 가중치를 조절하는 파라미터.<br>작으면 색상 기반, 크면 모양 유지에 집중. |\n",
    "| **mark\\_boundaries** | 슈퍼픽셀의 경계를 그려서 결과 이미지 시각화.                              |"
   ]
  }
 ],
 "metadata": {
  "kernelspec": {
   "display_name": "py310_",
   "language": "python",
   "name": "python3"
  },
  "language_info": {
   "codemirror_mode": {
    "name": "ipython",
    "version": 3
   },
   "file_extension": ".py",
   "mimetype": "text/x-python",
   "name": "python",
   "nbconvert_exporter": "python",
   "pygments_lexer": "ipython3",
   "version": "3.10.18"
  }
 },
 "nbformat": 4,
 "nbformat_minor": 5
}
