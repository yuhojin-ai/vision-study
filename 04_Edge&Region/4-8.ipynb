{
 "cells": [
  {
   "cell_type": "markdown",
   "id": "992ab9af",
   "metadata": {},
   "source": [
    "흑백 말 실루엣 이미지 가져오기 \\\n",
    "말 모양의 외곽선(윤곽) 찾아내기 \\\n",
    "면적, 중심점, 둘레, 둥근 정도(원에 가까운지)를 계산하기\\\n",
    "외곽선을 다각형으로 단순화, 볼록껍질(Convex Hull) 그리기"
   ]
  },
  {
   "cell_type": "code",
   "execution_count": 6,
   "id": "37f3ec0c",
   "metadata": {},
   "outputs": [
    {
     "name": "stdout",
     "output_type": "stream",
     "text": [
      "면적 = 42390.0 \n",
      "중심점 = ( 187.72464024534088 , 144.43640402610677 ) \n",
      "둘레 = 2296.7291333675385 \n",
      "둥근 정도 = 0.1009842680321435\n"
     ]
    }
   ],
   "source": [
    "import skimage\n",
    "import numpy as np\n",
    "import cv2 as cv\n",
    "\n",
    "# [1] Horse 이미지 불러오기 (bool 배열)\n",
    "orig = skimage.data.horse()\n",
    "\n",
    "# [2] 색 반전: 말 부분은 흰색(255), 배경은 검정(0)으로\n",
    "# (OpenCV Contour 검출은 전경=흰색, 배경=검정 기준!)\n",
    "img = 255 - np.uint8(orig) * 255\n",
    "\n",
    "# [3] 원본 확인\n",
    "cv.imshow('Horse', img)\n",
    "\n",
    "# [4] 외곽선 찾기 (Contour)\n",
    "# cv.RETR_EXTERNAL : 가장 바깥쪽 외곽선만 찾음\n",
    "# cv.CHAIN_APPROX_NONE : 모든 좌표 저장\n",
    "contours, hierarchy = cv.findContours(img, cv.RETR_EXTERNAL, cv.CHAIN_APPROX_NONE)\n",
    "\n",
    "# [5] 원본에 외곽선 그리기\n",
    "img2 = cv.cvtColor(img, cv.COLOR_GRAY2RGB)  # 색상 입혀서 컬러로 변환\n",
    "cv.drawContours(img2, contours, -1, (255, 0, 255), 2)  # 보라색\n",
    "cv.imshow('Horse with contour', img2)\n",
    "\n",
    "# [6] 첫 번째 외곽선 가져오기\n",
    "contour = contours[0]\n",
    "\n",
    "# [7] 모멘트 계산 (면적, 중심 등)\n",
    "m = cv.moments(contour)\n",
    "\n",
    "# [8] 면적 (Contour로 계산)\n",
    "area = cv.contourArea(contour)\n",
    "\n",
    "# [9] 중심 좌표 (Centroid)\n",
    "cx, cy = m['m10'] / m['m00'], m['m01'] / m['m00']\n",
    "\n",
    "# [10] 둘레 (경계 길이)\n",
    "perimeter = cv.arcLength(contour, True)  # True: 닫힌 곡선\n",
    "\n",
    "# [11] 둥근 정도 (Roundness) = 4πA / P²\n",
    "roundness = (4.0 * np.pi * area) / (perimeter * perimeter)\n",
    "\n",
    "# [12] 출력\n",
    "print('면적 =', area,\n",
    "      '\\n중심점 = (', cx, ',', cy, ')',\n",
    "      '\\n둘레 =', perimeter,\n",
    "      '\\n둥근 정도 =', roundness)\n",
    "\n",
    "# [13] 근사 다각형과 볼록 껍질 시각화 준비\n",
    "img3 = cv.cvtColor(img, cv.COLOR_GRAY2BGR)\n",
    "\n",
    "# [14] 다각형 근사 (Polygon Approximation)\n",
    "# - 단순화된 선분으로 근사 (epsilon=8)\n",
    "contour_approx = cv.approxPolyDP(contour, 8, True)\n",
    "cv.drawContours(img3, [contour_approx], -1, (0, 255, 0), 2)  # 초록색\n",
    "\n",
    "# [15] 볼록 껍질 (Convex Hull)\n",
    "hull = cv.convexHull(contour)  # 좌표를 볼록 다각형으로 감쌈\n",
    "\n",
    "# hull 형태를 OpenCV drawContours에 맞게 reshape\n",
    "hull = hull.reshape(1, hull.shape[0], hull.shape[2])\n",
    "cv.drawContours(img3, hull, -1, (0, 0, 255), 2)  # 빨간색\n",
    "\n",
    "# [16] 결과 시각화 (근사 다각형 + 볼록 껍질)\n",
    "cv.imshow('Horse with line segments and convex hull', img3)\n",
    "\n",
    "# [17] 키 입력 대기 & 창 닫기\n",
    "cv.waitKey()\n",
    "cv.destroyAllWindows()\n"
   ]
  },
  {
   "cell_type": "markdown",
   "id": "eb618fe5",
   "metadata": {},
   "source": [
    "| 부분             | 이유                         |\n",
    "| -------------- | -------------------------- |\n",
    "| `255-np.uint8(orig)*255`    | 배경/전경 반전 (말 모양 흰색)        |\n",
    "| `findContours` | 모양 경계점 좌표 찾기               |\n",
    "| `moments`      | 면적, 중심 계산                  |\n",
    "| `arcLength`    | 둘레 길이 계산                   |\n",
    "| `roundness`    | 모양이 원에 가까운지 평가             |\n",
    "| `approxPolyDP` | 복잡한 윤곽선을 단순화 (선분으로)        |\n",
    "| `convexHull`   | 울퉁불퉁한 모양을 둘러싸는 가장 작은 볼록 형태 |\n"
   ]
  },
  {
   "cell_type": "code",
   "execution_count": 2,
   "id": "dcf26b10",
   "metadata": {},
   "outputs": [
    {
     "name": "stdout",
     "output_type": "stream",
     "text": [
      "bool\n",
      "[False  True]\n",
      "<class 'tuple'>\n",
      "1\n"
     ]
    }
   ],
   "source": [
    "print(orig.dtype)   # bool\n",
    "print(np.unique(orig))  # [False  True]\n",
    "print(type(contours))\n",
    "print(len(contours))"
   ]
  }
 ],
 "metadata": {
  "kernelspec": {
   "display_name": "py310_",
   "language": "python",
   "name": "python3"
  },
  "language_info": {
   "codemirror_mode": {
    "name": "ipython",
    "version": 3
   },
   "file_extension": ".py",
   "mimetype": "text/x-python",
   "name": "python",
   "nbconvert_exporter": "python",
   "pygments_lexer": "ipython3",
   "version": "3.10.18"
  }
 },
 "nbformat": 4,
 "nbformat_minor": 5
}
