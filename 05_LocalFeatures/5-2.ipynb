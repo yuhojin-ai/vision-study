{
 "cells": [
  {
   "cell_type": "markdown",
   "id": "f21fed66",
   "metadata": {},
   "source": [
    "### 스케일 공간에서 특징점 검출\n",
    "| 알고리즘            | 방식            | 특징               |\n",
    "| --------------- | ------------- | ---------------- |\n",
    "| LoG             | 가우시안+라플라시안    | 블롭 검출의 이론적 기반    |\n",
    "| DoG             | 가우시안 차이       | SIFT 핵심, 연산량 ↓   |\n",
    "| Harris-Laplace  | Harris + LoG  | 코너+스케일 불변성       |\n",
    "| Hessian-Laplace | Hessian + LoG | 블롭+스케일 불변성, SURF |"
   ]
  },
  {
   "cell_type": "code",
   "execution_count": 11,
   "id": "b052b197",
   "metadata": {},
   "outputs": [],
   "source": [
    "import cv2 as cv\n",
    "\n",
    "img = cv.imread('mot_color70.jpg')\n",
    "gray = cv.cvtColor(img, cv.COLOR_BGR2GRAY)\n",
    "\n",
    "sift = cv.SIFT_create()\n",
    "sift = cv.SIFT_create(nfeatures=0, nOctaveLayers=5, contrastThreshold=0.04, edgeThreshold=10, sigma=1.6)\n",
    "kp, des = sift.detectAndCompute(gray, None)\n",
    "\n",
    "gray = cv.drawKeypoints(gray, kp, None, flags=cv.DRAW_MATCHES_FLAGS_DRAW_RICH_KEYPOINTS)\n",
    "cv.imshow('SIFT',gray)\n",
    "\n",
    "cv.waitKey()\n",
    "cv.destroyAllWindows()"
   ]
  },
  {
   "cell_type": "markdown",
   "id": "6344340a",
   "metadata": {},
   "source": [
    "| 파라미터                | 기본값  | 역할              | 설명                                          |\n",
    "| ------------------- | ---- | --------------- | ------------------------------------------------ |\n",
    "| `nfeatures`         | 0    | 최대로 검출할 키포인트 개수 | 너무 많으면 연산량 늘어남 → 강한 것부터 최대 400개만 남김              |\n",
    "| `nOctaveLayers`     | 3    | 옥타브당 레이어 수      | 옥타브: 스케일 공간 레벨 / 레이어 수 ↑ → 더 정밀한 스케일 분석          |\n",
    "| `contrastThreshold` | 0.04 | 대비 임계값          | 너무 어두운/평탄한 영역의 약한 특징점 제거. 값 ↓ 하면 약한 특징도 살림       |\n",
    "| `edgeThreshold`     | 10   | 에지 응답 억제값       | 에지처럼 긴 구조는 강한데 방향성이 약함 → 이 값이 낮으면 에지 특징 더 억제     |\n",
    "| `sigma`             | 1.6  | 가우시안 블러 시그마     | 첫 옥타브(스케일 공간)에서 가우시안 블러 정도. 커지면 더 부드럽게 스케일 공간 생성 |"
   ]
  }
 ],
 "metadata": {
  "kernelspec": {
   "display_name": "py310_",
   "language": "python",
   "name": "python3"
  },
  "language_info": {
   "codemirror_mode": {
    "name": "ipython",
    "version": 3
   },
   "file_extension": ".py",
   "mimetype": "text/x-python",
   "name": "python",
   "nbconvert_exporter": "python",
   "pygments_lexer": "ipython3",
   "version": "3.10.18"
  }
 },
 "nbformat": 4,
 "nbformat_minor": 5
}
