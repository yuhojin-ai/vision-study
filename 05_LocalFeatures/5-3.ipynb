{
 "cells": [
  {
   "cell_type": "code",
   "execution_count": 27,
   "id": "679c8813",
   "metadata": {},
   "outputs": [
    {
     "name": "stdout",
     "output_type": "stream",
     "text": [
      "특징점 개수: 231 4096\n",
      "매칭에 걸린 시간 0.024483203887939453\n"
     ]
    }
   ],
   "source": [
    "import cv2 as cv\n",
    "import numpy as np\n",
    "import time\n",
    "\n",
    "img1 = cv.imread('mot_color70.jpg')[190:350, 440:560]\n",
    "gray1 = cv.cvtColor(img1, cv.COLOR_BGR2GRAY)\n",
    "img2 = cv.imread('mot_color83.jpg')\n",
    "gray2 = cv.cvtColor(img2, cv.COLOR_BGR2GRAY)\n",
    "\n",
    "sift = cv.SIFT_create()\n",
    "kp1, des1 = sift.detectAndCompute(gray1, None)\n",
    "kp2, des2 = sift.detectAndCompute(gray2, None)\n",
    "print('특징점 개수:', len(kp1), len(kp2))\n",
    "\n",
    "start = time.time()\n",
    "flann_matcher = cv.DescriptorMatcher_create(cv.DescriptorMatcher_FLANNBASED)\n",
    "knn_match = flann_matcher.knnMatch(des1, des2, 2)\n",
    "\n",
    "T = 0.7\n",
    "good_match=[]\n",
    "for nearest1, nearest2 in knn_match:\n",
    "    if (nearest1.distance / nearest2.distance) < T:\n",
    "        good_match.append(nearest1)\n",
    "print('매칭에 걸린 시간', time.time()-start)\n",
    "\n",
    "img_match = np.empty((max(img1.shape[0], img2.shape[0]), img1.shape[1] + img2.shape[1], 3), dtype=np.uint8)\n",
    "cv.drawMatches(img1, kp1, img2, kp2, good_match, img_match, flags=cv.DrawMatchesFlags_NOT_DRAW_SINGLE_POINTS)\n",
    "\n",
    "cv.imshow('good Matches', img_match)\n",
    "\n",
    "cv.waitKey()\n",
    "cv.destroyAllWindows()"
   ]
  }
 ],
 "metadata": {
  "kernelspec": {
   "display_name": "py310_",
   "language": "python",
   "name": "python3"
  },
  "language_info": {
   "codemirror_mode": {
    "name": "ipython",
    "version": 3
   },
   "file_extension": ".py",
   "mimetype": "text/x-python",
   "name": "python",
   "nbconvert_exporter": "python",
   "pygments_lexer": "ipython3",
   "version": "3.10.18"
  }
 },
 "nbformat": 4,
 "nbformat_minor": 5
}
