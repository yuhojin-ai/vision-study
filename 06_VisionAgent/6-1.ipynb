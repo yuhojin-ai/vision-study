{
 "cells": [
  {
   "cell_type": "code",
   "execution_count": 1,
   "id": "f1f683f5",
   "metadata": {},
   "outputs": [
    {
     "data": {
      "text/plain": [
       "0"
      ]
     },
     "execution_count": 1,
     "metadata": {},
     "output_type": "execute_result"
    }
   ],
   "source": [
    "from PyQt5.QtWidgets import *\n",
    "import sys\n",
    "import winsound\n",
    "\n",
    "class BeepSound(QMainWindow):\n",
    "    def __init__(self):\n",
    "        # QMainWindow 초기화 (부모, 플래그 전달)\n",
    "        super().__init__()\n",
    "        \n",
    "        # [1] 윈도우 기본 설정\n",
    "        self.setWindowTitle('삑 소리 내기')\n",
    "        self.setGeometry(200, 200, 500, 100)\n",
    "        \n",
    "        # [2] 버튼 3개 생성\n",
    "        shortBeepButton = QPushButton('짧게 삑', self)\n",
    "        longBeepButton = QPushButton('길게 삑', self)\n",
    "        quitButton = QPushButton('나가기', self)\n",
    "        \n",
    "        # [3] 안내 라벨\n",
    "        self.label = QLabel('환영합니다!', self)\n",
    "        \n",
    "        # [4] 버튼 위치 배치\n",
    "        shortBeepButton.setGeometry(10, 10, 100, 30)\n",
    "        longBeepButton.setGeometry(110, 10, 100, 30)\n",
    "        quitButton.setGeometry(210, 10, 100, 30)\n",
    "        self.label.setGeometry(10, 40, 500, 70)\n",
    "        \n",
    "        # [5] 버튼 클릭 연결 (Signal-Slot 연결)\n",
    "        shortBeepButton.clicked.connect(self.shortBeepFunction)\n",
    "        longBeepButton.clicked.connect(self.longBeepFunction)\n",
    "        quitButton.clicked.connect(self.quitFunction)\n",
    "        \n",
    "    # [6] 짧은 삑 소리 함수\n",
    "    def shortBeepFunction(self):\n",
    "        self.label.setText('주파수 1000으로 0.5초 동안 삑 소리를 냅니다.')\n",
    "        winsound.Beep(1000, 500)  # 1000 Hz, 500 ms\n",
    "\n",
    "    # [7] 긴 삑 소리 함수\n",
    "    def longBeepFunction(self):\n",
    "        self.label.setText('주파수 1000으로 3초 동안 삑 소리를 냅니다.')\n",
    "        winsound.Beep(1000, 3000) # 1000 Hz, 3000 ms\n",
    "\n",
    "    # [8] 종료 함수\n",
    "    def quitFunction(self):\n",
    "        self.close()\n",
    "\n",
    "# [9] PyQt5 애플리케이션 실행 루프\n",
    "app = QApplication(sys.argv)\n",
    "win = BeepSound()\n",
    "win.show()\n",
    "app.exec_()\n",
    "       "
   ]
  }
 ],
 "metadata": {
  "kernelspec": {
   "display_name": "Python 3",
   "language": "python",
   "name": "python3"
  },
  "language_info": {
   "codemirror_mode": {
    "name": "ipython",
    "version": 3
   },
   "file_extension": ".py",
   "mimetype": "text/x-python",
   "name": "python",
   "nbconvert_exporter": "python",
   "pygments_lexer": "ipython3",
   "version": "3.10.18"
  }
 },
 "nbformat": 4,
 "nbformat_minor": 5
}
