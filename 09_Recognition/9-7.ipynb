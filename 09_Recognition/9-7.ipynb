{
 "cells": [
  {
   "cell_type": "markdown",
   "id": "77455ed0",
   "metadata": {},
   "source": [
    "pip install numpy==1.23.5 \\\n",
    "pip install pandas==1.5.3 \\\n",
    "conda install -c conda-forge tensorflow \\\n",
    "conda install -c conda-forge opencv\n",
    "pip install scikit-image==0.19.3 \\"
   ]
  },
  {
   "cell_type": "code",
   "execution_count": 1,
   "id": "e3caf11d",
   "metadata": {},
   "outputs": [
    {
     "name": "stdout",
     "output_type": "stream",
     "text": [
      "numpy: 1.24.4\n",
      "tensorflow: 2.10.0\n",
      "cv2: 4.11.0\n"
     ]
    }
   ],
   "source": [
    "import numpy\n",
    "import tensorflow as tf\n",
    "import cv2\n",
    "from pixellib.instance import instance_segmentation\n",
    "\n",
    "print(\"numpy:\", numpy.__version__)\n",
    "print(\"tensorflow:\", tf.__version__)\n",
    "print(\"cv2:\", cv2.__version__)\n",
    "\n",
    "seg = instance_segmentation()"
   ]
  },
  {
   "cell_type": "code",
   "execution_count": 15,
   "id": "64997c15",
   "metadata": {},
   "outputs": [],
   "source": [
    "from pixellib.instance import instance_segmentation\n",
    "import cv2 as cv\n",
    "\n",
    "seg = instance_segmentation(infer_speed=\"slow\")\n",
    "seg.load_model(\"mask_rcnn_coco.h5\")\n",
    "\n",
    "img ='busy_street.jpg'\n",
    "info, img_segmented = seg.segmentImage(\n",
    "    img,\n",
    "    show_bboxes=True\n",
    ")\n",
    "\n",
    "cv.imshow(\"Image segmentation overlayed\", img_segmented)\n",
    "cv.waitKey()\n",
    "cv.destroyAllWindows()\n"
   ]
  },
  {
   "cell_type": "code",
   "execution_count": 18,
   "id": "a0dafba8",
   "metadata": {},
   "outputs": [
    {
     "name": "stdout",
     "output_type": "stream",
     "text": [
      "2.3.1\n",
      "12.1\n",
      "True\n",
      "NVIDIA GeForce RTX 4070\n"
     ]
    }
   ],
   "source": [
    "import torch\n",
    "print(torch.__version__)\n",
    "print(torch.version.cuda)\n",
    "print(torch.cuda.is_available())\n",
    "print(torch.cuda.get_device_name(0))"
   ]
  },
  {
   "cell_type": "code",
   "execution_count": 7,
   "id": "7bb16a6f",
   "metadata": {},
   "outputs": [
    {
     "name": "stdout",
     "output_type": "stream",
     "text": [
      "Python path: c:\\Users\\asia\\.conda\\envs\\py308\\python.exe\n",
      "Pillow version: 8.4.0\n",
      "Has Image.LINEAR? True\n",
      "Has Image.Resampling? False\n"
     ]
    }
   ],
   "source": [
    "import sys\n",
    "from PIL import Image\n",
    "\n",
    "print(\"Python path:\", sys.executable)\n",
    "print(\"Pillow version:\", Image.__version__)\n",
    "print(\"Has Image.LINEAR?\", hasattr(Image, \"LINEAR\"))\n",
    "print(\"Has Image.Resampling?\", hasattr(Image, \"Resampling\"))"
   ]
  },
  {
   "cell_type": "code",
   "execution_count": null,
   "id": "9fa0c874",
   "metadata": {},
   "outputs": [
    {
     "name": "stderr",
     "output_type": "stream",
     "text": [
      "The checkpoint state_dict contains keys that are not used by the model:\n",
      "  \u001b[35mproposal_generator.anchor_generator.cell_anchors.{0, 1, 2, 3, 4}\u001b[0m\n"
     ]
    }
   ],
   "source": [
    "# PixelLib 불러오기: Torch 백엔드를 사용하는 인스턴스 세그멘테이션 모듈\n",
    "import pixellib\n",
    "from pixellib.torchbackend.instance import instanceSegmentation\n",
    "\n",
    "# OpenCV: 이미지 시각화를 위해 사용\n",
    "import cv2 as cv\n",
    "\n",
    "# 인스턴스 세그멘테이션 객체 생성 (PointRend 기반)\n",
    "seg = instanceSegmentation()\n",
    "\n",
    "# 사전 학습된 PointRend 모델(.pkl 파일) 로드\n",
    "seg.load_model(\"pointrend_resnet50.pkl\")\n",
    "\n",
    "img = 'busy_street.jpg'\n",
    "\n",
    "# 이미지 세그멘테이션 수행\n",
    "#   - segmentImage() 메서드:\n",
    "#     -> 이미지에 대해 객체 탐지 + 인스턴스별 마스크 추출\n",
    "#     -> show_bboxes=True 로 바운딩 박스도 함께 표시\n",
    "#   - 결과:\n",
    "#     info : 세그멘테이션 정보 (클래스, 위치 등)\n",
    "#     img_segmented : 시각화된 이미지 결과\n",
    "info, img_segmented = seg.segmentImage(\n",
    "    img,\n",
    "    show_bboxes=True\n",
    ")\n",
    "\n",
    "cv.imshow(\"PointRend Segmentation\", img_segmented)\n",
    "cv.waitKey(0)\n",
    "cv.destroyAllWindows()\n"
   ]
  },
  {
   "cell_type": "markdown",
   "id": "ff6ec767",
   "metadata": {},
   "source": [
    "### PointRend\n",
    "| 항목      | 설명                                                  |\n",
    "| ------- | --------------------------------------------------- |\n",
    "| 기본 개념   | Mask R-CNN의 마스크 품질을 개선하기 위해 제안된 방법                  |\n",
    "| 핵심 아이디어 | CNN 마스크 대신 **포인트 기반 샘플링(point-based rendering)** 사용 |\n",
    "| 경계 처리   | 경계선 주변의 불확실한 영역을 더 많은 샘플로 세밀히 예측해 부드러운 경계 생성        |\n",
    "| 특징      | 계단 현상을 줄이고 **고해상도 마스크** 제공                          |\n",
    "| 장점      | 이미지에서 인스턴스 경계선이 더 샤프함 → 특히 복잡한 형태에 강함               |\n",
    "| 단점      | Mask R-CNN보다 연산량이 약간 증가할 수 있음                       |"
   ]
  },
  {
   "cell_type": "code",
   "execution_count": 13,
   "id": "2fadf15a",
   "metadata": {},
   "outputs": [
    {
     "ename": "ModuleNotFoundError",
     "evalue": "No module named 'requests'",
     "output_type": "error",
     "traceback": [
      "\u001b[1;31m---------------------------------------------------------------------------\u001b[0m",
      "\u001b[1;31mModuleNotFoundError\u001b[0m                       Traceback (most recent call last)",
      "Cell \u001b[1;32mIn[13], line 4\u001b[0m\n\u001b[0;32m      1\u001b[0m \u001b[38;5;28;01mfrom\u001b[39;00m \u001b[38;5;21;01multralytics\u001b[39;00m \u001b[38;5;28;01mimport\u001b[39;00m YOLO\n\u001b[0;32m      3\u001b[0m \u001b[38;5;66;03m# 세그멘테이션 모델 로드\u001b[39;00m\n\u001b[1;32m----> 4\u001b[0m model \u001b[38;5;241m=\u001b[39m \u001b[43mYOLO\u001b[49m\u001b[43m(\u001b[49m\u001b[38;5;124;43m\"\u001b[39;49m\u001b[38;5;124;43myolov8x-seg.pt\u001b[39;49m\u001b[38;5;124;43m\"\u001b[39;49m\u001b[43m)\u001b[49m  \u001b[38;5;66;03m# yolov8n-seg.pt, yolov8m-seg.pt 등 경량 버전도 있음\u001b[39;00m\n\u001b[0;32m      6\u001b[0m \u001b[38;5;66;03m# 이미지 인퍼런스\u001b[39;00m\n\u001b[0;32m      7\u001b[0m results \u001b[38;5;241m=\u001b[39m model\u001b[38;5;241m.\u001b[39mpredict(\u001b[38;5;124m\"\u001b[39m\u001b[38;5;124mbusy_street.jpg\u001b[39m\u001b[38;5;124m\"\u001b[39m, save\u001b[38;5;241m=\u001b[39m\u001b[38;5;28;01mTrue\u001b[39;00m, show\u001b[38;5;241m=\u001b[39m\u001b[38;5;28;01mTrue\u001b[39;00m)\n",
      "File \u001b[1;32mc:\\Users\\asia\\.conda\\envs\\py308\\lib\\site-packages\\ultralytics\\models\\yolo\\model.py:79\u001b[0m, in \u001b[0;36mYOLO.__init__\u001b[1;34m(self, model, task, verbose)\u001b[0m\n\u001b[0;32m     76\u001b[0m     \u001b[38;5;28mself\u001b[39m\u001b[38;5;241m.\u001b[39m\u001b[38;5;18m__dict__\u001b[39m \u001b[38;5;241m=\u001b[39m new_instance\u001b[38;5;241m.\u001b[39m\u001b[38;5;18m__dict__\u001b[39m\n\u001b[0;32m     77\u001b[0m \u001b[38;5;28;01melse\u001b[39;00m:\n\u001b[0;32m     78\u001b[0m     \u001b[38;5;66;03m# Continue with default YOLO initialization\u001b[39;00m\n\u001b[1;32m---> 79\u001b[0m     \u001b[38;5;28;43msuper\u001b[39;49m\u001b[43m(\u001b[49m\u001b[43m)\u001b[49m\u001b[38;5;241;43m.\u001b[39;49m\u001b[38;5;21;43m__init__\u001b[39;49m\u001b[43m(\u001b[49m\u001b[43mmodel\u001b[49m\u001b[38;5;241;43m=\u001b[39;49m\u001b[43mmodel\u001b[49m\u001b[43m,\u001b[49m\u001b[43m \u001b[49m\u001b[43mtask\u001b[49m\u001b[38;5;241;43m=\u001b[39;49m\u001b[43mtask\u001b[49m\u001b[43m,\u001b[49m\u001b[43m \u001b[49m\u001b[43mverbose\u001b[49m\u001b[38;5;241;43m=\u001b[39;49m\u001b[43mverbose\u001b[49m\u001b[43m)\u001b[49m\n\u001b[0;32m     80\u001b[0m     \u001b[38;5;28;01mif\u001b[39;00m \u001b[38;5;28mhasattr\u001b[39m(\u001b[38;5;28mself\u001b[39m\u001b[38;5;241m.\u001b[39mmodel, \u001b[38;5;124m\"\u001b[39m\u001b[38;5;124mmodel\u001b[39m\u001b[38;5;124m\"\u001b[39m) \u001b[38;5;129;01mand\u001b[39;00m \u001b[38;5;124m\"\u001b[39m\u001b[38;5;124mRTDETR\u001b[39m\u001b[38;5;124m\"\u001b[39m \u001b[38;5;129;01min\u001b[39;00m \u001b[38;5;28mself\u001b[39m\u001b[38;5;241m.\u001b[39mmodel\u001b[38;5;241m.\u001b[39mmodel[\u001b[38;5;241m-\u001b[39m\u001b[38;5;241m1\u001b[39m]\u001b[38;5;241m.\u001b[39m_get_name():  \u001b[38;5;66;03m# if RTDETR head\u001b[39;00m\n\u001b[0;32m     81\u001b[0m         \u001b[38;5;28;01mfrom\u001b[39;00m \u001b[38;5;21;01multralytics\u001b[39;00m \u001b[38;5;28;01mimport\u001b[39;00m RTDETR\n",
      "File \u001b[1;32mc:\\Users\\asia\\.conda\\envs\\py308\\lib\\site-packages\\ultralytics\\engine\\model.py:130\u001b[0m, in \u001b[0;36mModel.__init__\u001b[1;34m(self, model, task, verbose)\u001b[0m\n\u001b[0;32m    127\u001b[0m model \u001b[38;5;241m=\u001b[39m \u001b[38;5;28mstr\u001b[39m(model)\u001b[38;5;241m.\u001b[39mstrip()\n\u001b[0;32m    129\u001b[0m \u001b[38;5;66;03m# Check if Ultralytics HUB model from https://hub.ultralytics.com\u001b[39;00m\n\u001b[1;32m--> 130\u001b[0m \u001b[38;5;28;01mif\u001b[39;00m \u001b[38;5;28;43mself\u001b[39;49m\u001b[38;5;241;43m.\u001b[39;49m\u001b[43mis_hub_model\u001b[49m\u001b[43m(\u001b[49m\u001b[43mmodel\u001b[49m\u001b[43m)\u001b[49m:\n\u001b[0;32m    131\u001b[0m     \u001b[38;5;28;01mfrom\u001b[39;00m \u001b[38;5;21;01multralytics\u001b[39;00m\u001b[38;5;21;01m.\u001b[39;00m\u001b[38;5;21;01mhub\u001b[39;00m \u001b[38;5;28;01mimport\u001b[39;00m HUBTrainingSession\n\u001b[0;32m    133\u001b[0m     \u001b[38;5;66;03m# Fetch model from HUB\u001b[39;00m\n",
      "File \u001b[1;32mc:\\Users\\asia\\.conda\\envs\\py308\\lib\\site-packages\\ultralytics\\engine\\model.py:232\u001b[0m, in \u001b[0;36mModel.is_hub_model\u001b[1;34m(model)\u001b[0m\n\u001b[0;32m    212\u001b[0m \u001b[38;5;129m@staticmethod\u001b[39m\n\u001b[0;32m    213\u001b[0m \u001b[38;5;28;01mdef\u001b[39;00m \u001b[38;5;21mis_hub_model\u001b[39m(model: \u001b[38;5;28mstr\u001b[39m) \u001b[38;5;241m-\u001b[39m\u001b[38;5;241m>\u001b[39m \u001b[38;5;28mbool\u001b[39m:\n\u001b[0;32m    214\u001b[0m \u001b[38;5;250m    \u001b[39m\u001b[38;5;124;03m\"\"\"\u001b[39;00m\n\u001b[0;32m    215\u001b[0m \u001b[38;5;124;03m    Check if the provided model is an Ultralytics HUB model.\u001b[39;00m\n\u001b[0;32m    216\u001b[0m \n\u001b[1;32m   (...)\u001b[0m\n\u001b[0;32m    230\u001b[0m \u001b[38;5;124;03m        False\u001b[39;00m\n\u001b[0;32m    231\u001b[0m \u001b[38;5;124;03m    \"\"\"\u001b[39;00m\n\u001b[1;32m--> 232\u001b[0m     \u001b[38;5;28;01mfrom\u001b[39;00m \u001b[38;5;21;01multralytics\u001b[39;00m\u001b[38;5;21;01m.\u001b[39;00m\u001b[38;5;21;01mhub\u001b[39;00m \u001b[38;5;28;01mimport\u001b[39;00m HUB_WEB_ROOT\n\u001b[0;32m    234\u001b[0m     \u001b[38;5;28;01mreturn\u001b[39;00m model\u001b[38;5;241m.\u001b[39mstartswith(\u001b[38;5;124mf\u001b[39m\u001b[38;5;124m\"\u001b[39m\u001b[38;5;132;01m{\u001b[39;00mHUB_WEB_ROOT\u001b[38;5;132;01m}\u001b[39;00m\u001b[38;5;124m/models/\u001b[39m\u001b[38;5;124m\"\u001b[39m)\n",
      "File \u001b[1;32mc:\\Users\\asia\\.conda\\envs\\py308\\lib\\site-packages\\ultralytics\\hub\\__init__.py:3\u001b[0m\n\u001b[0;32m      1\u001b[0m \u001b[38;5;66;03m# Ultralytics 🚀 AGPL-3.0 License - https://ultralytics.com/license\u001b[39;00m\n\u001b[1;32m----> 3\u001b[0m \u001b[38;5;28;01mimport\u001b[39;00m \u001b[38;5;21;01mrequests\u001b[39;00m\n\u001b[0;32m      5\u001b[0m \u001b[38;5;28;01mfrom\u001b[39;00m \u001b[38;5;21;01multralytics\u001b[39;00m\u001b[38;5;21;01m.\u001b[39;00m\u001b[38;5;21;01mdata\u001b[39;00m\u001b[38;5;21;01m.\u001b[39;00m\u001b[38;5;21;01mutils\u001b[39;00m \u001b[38;5;28;01mimport\u001b[39;00m HUBDatasetStats\n\u001b[0;32m      6\u001b[0m \u001b[38;5;28;01mfrom\u001b[39;00m \u001b[38;5;21;01multralytics\u001b[39;00m\u001b[38;5;21;01m.\u001b[39;00m\u001b[38;5;21;01mhub\u001b[39;00m\u001b[38;5;21;01m.\u001b[39;00m\u001b[38;5;21;01mauth\u001b[39;00m \u001b[38;5;28;01mimport\u001b[39;00m Auth\n",
      "\u001b[1;31mModuleNotFoundError\u001b[0m: No module named 'requests'"
     ]
    }
   ],
   "source": [
    "from ultralytics import YOLO\n",
    "\n",
    "# 세그멘테이션 모델 로드\n",
    "model = YOLO(\"yolov8x-seg.pt\")  # yolov8n-seg.pt, yolov8m-seg.pt 등 경량 버전도 있음\n",
    "\n",
    "# 이미지 인퍼런스\n",
    "results = model.predict(\"busy_street.jpg\", save=True, show=True)\n",
    "\n",
    "# 결과 확인\n",
    "print(results[0].masks)  # 마스크 정보"
   ]
  }
 ],
 "metadata": {
  "kernelspec": {
   "display_name": "Python 3",
   "language": "python",
   "name": "python3"
  },
  "language_info": {
   "codemirror_mode": {
    "name": "ipython",
    "version": 3
   },
   "file_extension": ".py",
   "mimetype": "text/x-python",
   "name": "python",
   "nbconvert_exporter": "python",
   "pygments_lexer": "ipython3",
   "version": "3.8.20"
  }
 },
 "nbformat": 4,
 "nbformat_minor": 5
}
