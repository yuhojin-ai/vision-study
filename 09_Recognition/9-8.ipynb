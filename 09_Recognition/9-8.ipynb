{
 "cells": [
  {
   "cell_type": "code",
   "execution_count": 4,
   "id": "108f4535",
   "metadata": {},
   "outputs": [],
   "source": [
    "from pixellib.instance import instance_segmentation\n",
    "import cv2 as cv\n",
    "\n",
    "cap=cv.VideoCapture(0)\n",
    "\n",
    "seg_video=instance_segmentation()\n",
    "seg_video.load_model(\"mask_rcnn_coco.h5\")\n",
    "\n",
    "target_class=seg_video.select_target_classes(person=True,book=True)\n",
    "seg_video.process_camera(cap,segment_target_classes=target_class,frames_per_second=2,show_frames=True,frame_name='Pixellib',show_bboxes=True)\n",
    "\n",
    "cap.release()\n",
    "cv.destroyAllWindows()\n"
   ]
  },
  {
   "cell_type": "code",
   "execution_count": 1,
   "id": "4a545284",
   "metadata": {},
   "outputs": [
    {
     "name": "stderr",
     "output_type": "stream",
     "text": [
      "The checkpoint state_dict contains keys that are not used by the model:\n",
      "  \u001b[35mproposal_generator.anchor_generator.cell_anchors.{0, 1, 2, 3, 4}\u001b[0m\n",
      "c:\\Users\\asia\\.conda\\envs\\py308\\lib\\site-packages\\torch\\functional.py:512: UserWarning: torch.meshgrid: in an upcoming release, it will be required to pass the indexing argument. (Triggered internally at C:\\cb\\pytorch_1000000000000\\work\\aten\\src\\ATen\\native\\TensorShape.cpp:3588.)\n",
      "  return _VF.meshgrid(tensors, **kwargs)  # type: ignore[attr-defined]\n"
     ]
    }
   ],
   "source": [
    "import pixellib\n",
    "from pixellib.torchbackend.instance import instanceSegmentation\n",
    "import cv2 as cv\n",
    "\n",
    "# PointRend 인스턴스 세그멘테이션 객체 생성\n",
    "seg = instanceSegmentation()\n",
    "seg.load_model(\"pointrend_resnet50.pkl\")\n",
    "\n",
    "# 웹캠 캡처 시작\n",
    "cap = cv.VideoCapture(0)\n",
    "\n",
    "while True:\n",
    "    ret, frame = cap.read()\n",
    "    if not ret:\n",
    "        break\n",
    "\n",
    "    # 프레임 세그멘테이션 수행\n",
    "    result, output = seg.segmentFrame(frame, show_bboxes=True)\n",
    "\n",
    "    # 결과 출력\n",
    "    cv.imshow('PointRend Webcam Segmentation', output)\n",
    "\n",
    "    key = cv.waitKey(1)\n",
    "    if key == ord('q'):\n",
    "        break\n",
    "\n",
    "cap.release()\n",
    "cv.destroyAllWindows()"
   ]
  }
 ],
 "metadata": {
  "kernelspec": {
   "display_name": "Python 3",
   "language": "python",
   "name": "python3"
  },
  "language_info": {
   "codemirror_mode": {
    "name": "ipython",
    "version": 3
   },
   "file_extension": ".py",
   "mimetype": "text/x-python",
   "name": "python",
   "nbconvert_exporter": "python",
   "pygments_lexer": "ipython3",
   "version": "3.8.20"
  }
 },
 "nbformat": 4,
 "nbformat_minor": 5
}
